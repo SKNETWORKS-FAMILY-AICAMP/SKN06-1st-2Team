{
 "cells": [
  {
   "cell_type": "code",
   "execution_count": 10,
   "id": "aadc6806-1088-408e-a9de-6c340a1e17e5",
   "metadata": {},
   "outputs": [
    {
     "name": "stdout",
     "output_type": "stream",
     "text": [
      "app_manager\\data\\현대차_daily_prices.csv 파일이 저장되었습니다.\n",
      "app_manager\\data\\현대차_price_trend.png 그래프 파일이 저장되었습니다.\n",
      "app_manager\\data\\기아_daily_prices.csv 파일이 저장되었습니다.\n",
      "app_manager\\data\\기아_price_trend.png 그래프 파일이 저장되었습니다.\n",
      "app_manager\\data\\에코프로비엠_daily_prices.csv 파일이 저장되었습니다.\n",
      "app_manager\\data\\에코프로비엠_price_trend.png 그래프 파일이 저장되었습니다.\n",
      "app_manager\\data\\LG화학_daily_prices.csv 파일이 저장되었습니다.\n",
      "app_manager\\data\\LG화학_price_trend.png 그래프 파일이 저장되었습니다.\n",
      "app_manager\\data\\금양_daily_prices.csv 파일이 저장되었습니다.\n",
      "app_manager\\data\\금양_price_trend.png 그래프 파일이 저장되었습니다.\n",
      "app_manager\\data\\SK이노베이션_daily_prices.csv 파일이 저장되었습니다.\n",
      "app_manager\\data\\SK이노베이션_price_trend.png 그래프 파일이 저장되었습니다.\n",
      "app_manager\\data\\LG 에너지솔루션_daily_prices.csv 파일이 저장되었습니다.\n",
      "app_manager\\data\\LG 에너지솔루션_price_trend.png 그래프 파일이 저장되었습니다.\n",
      "app_manager\\data\\삼성SDI_daily_prices.csv 파일이 저장되었습니다.\n",
      "app_manager\\data\\삼성SDI_price_trend.png 그래프 파일이 저장되었습니다.\n",
      "app_manager\\data\\엘앤에프_daily_prices.csv 파일이 저장되었습니다.\n",
      "app_manager\\data\\엘앤에프_price_trend.png 그래프 파일이 저장되었습니다.\n",
      "app_manager\\data\\포스코퓨처엠_daily_prices.csv 파일이 저장되었습니다.\n",
      "app_manager\\data\\포스코퓨처엠_price_trend.png 그래프 파일이 저장되었습니다.\n",
      "app_manager\\data\\포스코DX_daily_prices.csv 파일이 저장되었습니다.\n",
      "app_manager\\data\\포스코DX_price_trend.png 그래프 파일이 저장되었습니다.\n",
      "app_manager\\data\\SK 네트웍스_daily_prices.csv 파일이 저장되었습니다.\n",
      "app_manager\\data\\SK 네트웍스_price_trend.png 그래프 파일이 저장되었습니다.\n",
      "app_manager\\data\\솔루엠_daily_prices.csv 파일이 저장되었습니다.\n",
      "app_manager\\data\\솔루엠_price_trend.png 그래프 파일이 저장되었습니다.\n",
      "app_manager\\data\\롯데이노베이트_daily_prices.csv 파일이 저장되었습니다.\n",
      "app_manager\\data\\롯데이노베이트_price_trend.png 그래프 파일이 저장되었습니다.\n",
      "모든 CSV 파일과 그래프 파일 저장 완료.\n"
     ]
    },
    {
     "data": {
      "text/plain": [
       "<Figure size 1200x800 with 0 Axes>"
      ]
     },
     "metadata": {},
     "output_type": "display_data"
    },
    {
     "data": {
      "text/plain": [
       "<Figure size 1200x800 with 0 Axes>"
      ]
     },
     "metadata": {},
     "output_type": "display_data"
    },
    {
     "data": {
      "text/plain": [
       "<Figure size 1200x800 with 0 Axes>"
      ]
     },
     "metadata": {},
     "output_type": "display_data"
    },
    {
     "data": {
      "text/plain": [
       "<Figure size 1200x800 with 0 Axes>"
      ]
     },
     "metadata": {},
     "output_type": "display_data"
    },
    {
     "data": {
      "text/plain": [
       "<Figure size 1200x800 with 0 Axes>"
      ]
     },
     "metadata": {},
     "output_type": "display_data"
    },
    {
     "data": {
      "text/plain": [
       "<Figure size 1200x800 with 0 Axes>"
      ]
     },
     "metadata": {},
     "output_type": "display_data"
    },
    {
     "data": {
      "text/plain": [
       "<Figure size 1200x800 with 0 Axes>"
      ]
     },
     "metadata": {},
     "output_type": "display_data"
    },
    {
     "data": {
      "text/plain": [
       "<Figure size 1200x800 with 0 Axes>"
      ]
     },
     "metadata": {},
     "output_type": "display_data"
    },
    {
     "data": {
      "text/plain": [
       "<Figure size 1200x800 with 0 Axes>"
      ]
     },
     "metadata": {},
     "output_type": "display_data"
    },
    {
     "data": {
      "text/plain": [
       "<Figure size 1200x800 with 0 Axes>"
      ]
     },
     "metadata": {},
     "output_type": "display_data"
    },
    {
     "data": {
      "text/plain": [
       "<Figure size 1200x800 with 0 Axes>"
      ]
     },
     "metadata": {},
     "output_type": "display_data"
    },
    {
     "data": {
      "text/plain": [
       "<Figure size 1200x800 with 0 Axes>"
      ]
     },
     "metadata": {},
     "output_type": "display_data"
    },
    {
     "data": {
      "text/plain": [
       "<Figure size 1200x800 with 0 Axes>"
      ]
     },
     "metadata": {},
     "output_type": "display_data"
    },
    {
     "data": {
      "text/plain": [
       "<Figure size 1200x800 with 0 Axes>"
      ]
     },
     "metadata": {},
     "output_type": "display_data"
    }
   ],
   "source": [
    "import os\n",
    "import matplotlib.pyplot as plt\n",
    "import matplotlib.dates as mdates\n",
    "import pandas as pd\n",
    "import requests\n",
    "from bs4 import BeautifulSoup\n",
    "\n",
    "plt.rcParams['font.family'] = 'Malgun Gothic'  # 한글 폰트 설정\n",
    "plt.rcParams['axes.unicode_minus'] = False  # 음수 부호 깨짐 방지\n",
    "\n",
    "# 'app_manager/data' 폴더가 없으면 생성\n",
    "data_folder = os.path.join('app_manager', 'data')\n",
    "if not os.path.exists(data_folder):\n",
    "    os.makedirs(data_folder)\n",
    "\n",
    "# headers 설정\n",
    "headers = {\"User-Agent\": \"Mozilla/5.0\"}\n",
    "\n",
    "# 종목 코드와 기업명 매핑\n",
    "stock_info = {\n",
    "    '현대차': '005380',\n",
    "    '기아': '000270',\n",
    "    '에코프로비엠': '247540',\n",
    "    'LG화학': '051910',\n",
    "    '금양': '001570',\n",
    "    'SK이노베이션': '096770',\n",
    "    'LG 에너지솔루션': '373220',\n",
    "    '삼성SDI': '006400',\n",
    "    '엘앤에프': '066970',\n",
    "    '포스코퓨처엠': '003670',\n",
    "    '포스코DX': '022100',\n",
    "    'SK 네트웍스': '001740',\n",
    "    '솔루엠': '248070',\n",
    "    '롯데이노베이트': '286940',\n",
    "}\n",
    "\n",
    "def get_data(stock_code, end_date=None, pages=1):\n",
    "    data = []  # 데이터를 저장할 리스트\n",
    "    \n",
    "    for page in range(1, pages + 1):\n",
    "        base_url = f'https://finance.naver.com/item/sise_day.nhn?code={stock_code}'  # 종목별 URL 설정\n",
    "        params = {\n",
    "            \"code\": stock_code,\n",
    "            \"page\": page\n",
    "        }\n",
    "        try:\n",
    "            res = requests.get(base_url, headers=headers, params=params)\n",
    "            res.encoding = 'euc-kr'  # 네이버 금융은 EUC-KR 인코딩 사용\n",
    "            soup = BeautifulSoup(res.text, \"html.parser\")\n",
    "            \n",
    "            table = soup.find(\"table\", {\"class\": \"type2\"})\n",
    "            if not table:\n",
    "                print(f\"페이지 {page}에서 테이블을 찾을 수 없습니다.\")\n",
    "                continue\n",
    "            \n",
    "            # 테이블에서 행(row) 추출\n",
    "            rows = table.find_all(\"tr\")\n",
    "            \n",
    "            for row in rows:\n",
    "                cols = row.find_all(\"td\")\n",
    "                if len(cols) > 1:  # 공백 row 제외\n",
    "                    try:\n",
    "                        date = cols[0].get_text(strip=True)\n",
    "                        closing_price = cols[1].get_text(strip=True).replace(',', '')\n",
    "                        volume = cols[6].get_text(strip=True).replace(',', '')\n",
    "                        \n",
    "                        # 종료일이 설정되어 있다면 그 날짜 이전의 데이터만 추가\n",
    "                        parsed_date = pd.to_datetime(date, format='%Y.%m.%d')\n",
    "                        if end_date and parsed_date <= pd.to_datetime(end_date):\n",
    "                            print(f\"종목 {stock_code}: 종료일({end_date}) 이전의 데이터는 제외됩니다.\")\n",
    "                            return pd.DataFrame(data)\n",
    "\n",
    "                        data.append({\n",
    "                            '날짜': date,\n",
    "                            '종가': int(closing_price) if closing_price else None,\n",
    "                            '거래량': int(volume) if volume else None\n",
    "                        })\n",
    "                    except ValueError as ve:\n",
    "                        print(f\"데이터 변환 오류: {ve}\")\n",
    "        except requests.RequestException as e:\n",
    "            print(f\"HTTP 요청 중 오류 발생: {e}\")\n",
    "    \n",
    "    # 리스트를 DataFrame으로 변환\n",
    "    df = pd.DataFrame(data)\n",
    "\n",
    "    # 날짜 형식 변환\n",
    "    try:\n",
    "        df['날짜'] = pd.to_datetime(df['날짜'], format='%Y.%m.%d')\n",
    "    except Exception as e:\n",
    "        print(f\"날짜 변환 중 오류 발생: {e}\")\n",
    "        return df  # 오류 발생 시에도 데이터프레임 반환\n",
    "    \n",
    "    # NaT 값 제거\n",
    "    df.dropna(subset=['날짜'], inplace=True)\n",
    "    \n",
    "    # 정렬\n",
    "    df.sort_values('날짜', inplace=True, ascending=False)\n",
    "    \n",
    "    # 인덱스 재설정\n",
    "    df.reset_index(drop=True, inplace=True)\n",
    "    \n",
    "    return df\n",
    "\n",
    "# 각 종목의 데이터를 가져와 기업별로 CSV 파일로 저장\n",
    "end_date = \"2022-01-01\"  # 종료일 설정\n",
    "for company_name, stock_code in stock_info.items():\n",
    "\n",
    "    # 종목의 데이터를 가져옴\n",
    "    stock_data = get_data(stock_code=stock_code, end_date=end_date, pages=68)\n",
    "    \n",
    "    # 기업명을 파일 이름에 포함하여 CSV 저장\n",
    "    csv_filename = os.path.join(data_folder, f'{company_name}_daily_prices.csv')\n",
    "    stock_data.to_csv(csv_filename, index=False, encoding='utf-8-sig')\n",
    "    print(f\"{csv_filename} 파일이 저장되었습니다.\")\n",
    "\n",
    "    # 날짜를 인덱스로 설정\n",
    "    stock_data.set_index('날짜', inplace=True)\n",
    "\n",
    "    # NaN 또는 NaT가 있는 데이터를 제외\n",
    "    stock_data = stock_data.dropna(subset=['종가'])\n",
    "    \n",
    "    # 그래프 생성\n",
    "    plt.figure(figsize=(12, 8))\n",
    "    plt.plot(stock_data.index, stock_data['종가'], linestyle='-', color='green', label='종가')\n",
    "    \n",
    "    # x축을 분기 단위로 설정\n",
    "    plt.gca().xaxis.set_major_locator(mdates.MonthLocator(interval=3))  # 3개월 간격으로 라벨 표시\n",
    "    plt.gca().xaxis.set_major_formatter(mdates.DateFormatter('%Y-%m'))  # 연도-월 형식으로 표시\n",
    "    \n",
    "    # 그래프 제목 및 레이블 설정\n",
    "    plt.title(f'{company_name} 일별 종가 그래프', fontsize=15)\n",
    "    plt.xlabel('날짜 (분기별)', fontsize=12)\n",
    "    plt.ylabel('종가 가격 (KRW)', fontsize=12)\n",
    "    \n",
    "    # x축의 날짜 라벨이 겹치지 않도록 회전\n",
    "    plt.xticks(rotation=45)\n",
    "    \n",
    "    # 범례 표시\n",
    "    plt.legend()\n",
    "\n",
    "    # 그래프 저장\n",
    "    graph_filename = os.path.join(data_folder, f'{company_name}_price_trend.png')\n",
    "    plt.savefig(graph_filename)\n",
    "    print(f\"{graph_filename} 그래프 파일이 저장되었습니다.\")\n",
    "\n",
    "    # 그래프 초기화 (다음 종목을 위해)\n",
    "    plt.clf()\n",
    "\n",
    "print(\"모든 CSV 파일과 그래프 파일 저장 완료.\")\n",
    "\n"
   ]
  },
  {
   "cell_type": "code",
   "execution_count": null,
   "id": "ebd2e969-e686-4a29-9925-caebe31088fb",
   "metadata": {},
   "outputs": [],
   "source": []
  }
 ],
 "metadata": {
  "kernelspec": {
   "display_name": "Python 3 (ipykernel)",
   "language": "python",
   "name": "python3"
  },
  "language_info": {
   "codemirror_mode": {
    "name": "ipython",
    "version": 3
   },
   "file_extension": ".py",
   "mimetype": "text/x-python",
   "name": "python",
   "nbconvert_exporter": "python",
   "pygments_lexer": "ipython3",
   "version": "3.11.10"
  }
 },
 "nbformat": 4,
 "nbformat_minor": 5
}
